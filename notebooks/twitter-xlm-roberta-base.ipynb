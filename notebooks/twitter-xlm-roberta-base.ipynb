{
 "cells": [
  {
   "cell_type": "code",
   "execution_count": 1,
   "metadata": {},
   "outputs": [
    {
     "name": "stderr",
     "output_type": "stream",
     "text": [
      "comet_ml is installed but `COMET_API_KEY` is not set.\n"
     ]
    }
   ],
   "source": [
    "from transformers import AutoTokenizer, AutoModel, TFAutoModel\n",
    "import numpy as np\n",
    "from scipy.spatial.distance import cosine\n",
    "from collections import defaultdict"
   ]
  },
  {
   "cell_type": "code",
   "execution_count": 2,
   "metadata": {},
   "outputs": [],
   "source": [
    "def preprocess(text):\n",
    "    new_text = []\n",
    "    for t in text.split(\" \"):\n",
    "        t = '@user' if t.startswith('@') and len(t) > 1 else t\n",
    "        t = 'http' if t.startswith('http') else t\n",
    "        new_text.append(t)\n",
    "    return \" \".join(new_text)"
   ]
  },
  {
   "cell_type": "code",
   "execution_count": 3,
   "metadata": {},
   "outputs": [],
   "source": [
    "def get_embedding(text):\n",
    "    text = preprocess(text)\n",
    "    encoded_input = tokenizer(text, return_tensors='pt')\n",
    "    features = model(**encoded_input)\n",
    "    features = features[0].detach().cpu().numpy() \n",
    "    features_mean = np.mean(features[0], axis=0) \n",
    "    return features_mean"
   ]
  },
  {
   "cell_type": "code",
   "execution_count": 4,
   "metadata": {},
   "outputs": [
    {
     "name": "stderr",
     "output_type": "stream",
     "text": [
      "Some weights of XLMRobertaModel were not initialized from the model checkpoint at cardiffnlp/twitter-xlm-roberta-base and are newly initialized: ['roberta.pooler.dense.weight', 'roberta.pooler.dense.bias']\n",
      "You should probably TRAIN this model on a down-stream task to be able to use it for predictions and inference.\n"
     ]
    }
   ],
   "source": [
    "MODEL =  \"cardiffnlp/twitter-xlm-roberta-base\"\n",
    "tokenizer = AutoTokenizer.from_pretrained(MODEL)\n",
    "model = AutoModel.from_pretrained(MODEL)"
   ]
  },
  {
   "cell_type": "code",
   "execution_count": 14,
   "metadata": {
    "collapsed": true
   },
   "outputs": [
    {
     "name": "stderr",
     "output_type": "stream",
     "text": [
      "Some weights of XLMRobertaModel were not initialized from the model checkpoint at cardiffnlp/twitter-xlm-roberta-base and are newly initialized: ['roberta.pooler.dense.weight', 'roberta.pooler.dense.bias']\n",
      "You should probably TRAIN this model on a down-stream task to be able to use it for predictions and inference.\n"
     ]
    }
   ],
   "source": [
    "MODEL =  \"cardiffnlp/twitter-xlm-roberta-base\"\n",
    "tokenizer = AutoTokenizer.from_pretrained(MODEL)\n",
    "model = AutoModel.from_pretrained(MODEL)\n",
    "\n",
    "def get_embedding(text):\n",
    "    text = preprocess(text)\n",
    "    encoded_input = tokenizer(text, return_tensors='pt')\n",
    "    features = model(**encoded_input)\n",
    "    features = features[0].detach().cpu().numpy() \n",
    "    features_mean = np.mean(features[0], axis=0) \n",
    "    return features_mean\n",
    "\n",
    "query = \"Acabo de pedir pollo frito 🐣\" #spanish\n",
    "\n",
    "tweets = [\"We had a great time! ⚽️\", # english\n",
    "          \"We hebben een geweldige tijd gehad! ⛩\", # dutch\n",
    "          \"Nous avons passé un bon moment! 🎥\", # french\n",
    "          \"Ci siamo divertiti! 🍝\"] # italian\n",
    "\n",
    "d = defaultdict(int)\n",
    "for tweet in tweets:\n",
    "    sim = 1-cosine(get_embedding(query),get_embedding(tweet))\n",
    "    d[tweet] = sim"
   ]
  },
  {
   "cell_type": "code",
   "execution_count": 15,
   "metadata": {},
   "outputs": [
    {
     "name": "stdout",
     "output_type": "stream",
     "text": [
      "Most similar to:  Acabo de pedir pollo frito 🐣\n",
      "----------------------------------------\n",
      "1 Ci siamo divertiti! 🍝\n",
      "2 Nous avons passé un bon moment! 🎥\n",
      "3 We had a great time! ⚽️\n",
      "4 We hebben een geweldige tijd gehad! ⛩\n"
     ]
    }
   ],
   "source": [
    "print('Most similar to: ',query)\n",
    "print('----------------------------------------')\n",
    "for idx,x in enumerate(sorted(d.items(), key=lambda x:x[1], reverse=True)):\n",
    "  print(idx+1,x[0])"
   ]
  },
  {
   "cell_type": "markdown",
   "metadata": {},
   "source": [
    "# Adapters"
   ]
  },
  {
   "cell_type": "code",
   "execution_count": 10,
   "metadata": {},
   "outputs": [],
   "source": [
    "import torch\n",
    "\n",
    "model_path = 'cardiffnlp/twitter-xlm-roberta-base'\n",
    "tokenizer = AutoTokenizer.from_pretrained(model_path)\n",
    "model = AutoModelWithHeads.from_pretrained(model_path)\n",
    "\n",
    "adapt = './adapter_all_xlm-twitter_1875_0-001_1_20210131_163602_657853/'\n",
    "model.load_adapter(adapt)"
   ]
  },
  {
   "cell_type": "code",
   "execution_count": 11,
   "metadata": {},
   "outputs": [],
   "source": [
    "with open(adapt+'/head_config.json') as f:\n",
    "    j = json.load(f)\n",
    "labels = {v: k for k, v in j['config']['label2id'].items()}\n",
    "\n",
    "def predict(sentence):\n",
    "    token_ids = tokenizer.convert_tokens_to_ids(tokenizer.tokenize(sentence))\n",
    "    input_tensor = torch.tensor([token_ids])\n",
    "    # predict output tensor\n",
    "    outputs = model(input_tensor, adapter_names=['adapter_all_xlm-twitter_1875_0-001_1_20210131_163602_657853'])\n",
    "    # retrieve the predicted class label\n",
    "    p = torch.argmax(outputs[0]).item()\n",
    "    return labels[p]"
   ]
  },
  {
   "cell_type": "code",
   "execution_count": 12,
   "metadata": {},
   "outputs": [
    {
     "name": "stdout",
     "output_type": "stream",
     "text": [
      "pos\n",
      "neu\n",
      "neg\n"
     ]
    }
   ],
   "source": [
    "print(predict('la película me gustó mucho')) # spanish\n",
    "print(predict('käisin eile pargis')) # estonian\n",
    "print(predict('Quel film è orribile'))"
   ]
  }
 ],
 "metadata": {
  "kernelspec": {
   "display_name": "Python 3",
   "language": "python",
   "name": "python3"
  },
  "language_info": {
   "codemirror_mode": {
    "name": "ipython",
    "version": 3
   },
   "file_extension": ".py",
   "mimetype": "text/x-python",
   "name": "python",
   "nbconvert_exporter": "python",
   "pygments_lexer": "ipython3",
   "version": "3.6.9"
  }
 },
 "nbformat": 4,
 "nbformat_minor": 4
}
